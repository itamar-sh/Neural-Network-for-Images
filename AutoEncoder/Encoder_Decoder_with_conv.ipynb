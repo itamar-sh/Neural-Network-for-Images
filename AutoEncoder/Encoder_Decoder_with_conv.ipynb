{
  "cells": [
    {
      "cell_type": "markdown",
      "metadata": {
        "id": "3dnIltbClH10"
      },
      "source": [
        "Imports"
      ]
    },
    {
      "cell_type": "code",
      "execution_count": null,
      "metadata": {
        "id": "1Lz0V9Mzk4lz"
      },
      "outputs": [],
      "source": [
        "\n",
        "import torch\n",
        "import torchvision\n",
        "import torchvision.transforms as transforms\n",
        "import torch.nn as nn\n",
        "import torch.nn.functional as F\n",
        "import torch.optim as optim\n",
        "import matplotlib.pyplot as plt\n",
        "import numpy as np\n",
        "\n",
        "\n"
      ]
    },
    {
      "cell_type": "code",
      "execution_count": null,
      "metadata": {
        "colab": {
          "base_uri": "https://localhost:8080/"
        },
        "id": "Uvk-FKZsOiqg",
        "outputId": "3f2b013e-bad3-44c8-bde5-cf414f027ae2"
      },
      "outputs": [
        {
          "name": "stdout",
          "output_type": "stream",
          "text": [
            "Looking in indexes: https://pypi.org/simple, https://us-python.pkg.dev/colab-wheels/public/simple/\n",
            "Requirement already satisfied: wandb in /usr/local/lib/python3.9/dist-packages (0.14.2)\n",
            "Requirement already satisfied: setuptools in /usr/local/lib/python3.9/dist-packages (from wandb) (67.6.1)\n",
            "Requirement already satisfied: protobuf!=4.21.0,<5,>=3.15.0 in /usr/local/lib/python3.9/dist-packages (from wandb) (3.20.3)\n",
            "Requirement already satisfied: Click!=8.0.0,>=7.0 in /usr/local/lib/python3.9/dist-packages (from wandb) (8.1.3)\n",
            "Requirement already satisfied: docker-pycreds>=0.4.0 in /usr/local/lib/python3.9/dist-packages (from wandb) (0.4.0)\n",
            "Requirement already satisfied: psutil>=5.0.0 in /usr/local/lib/python3.9/dist-packages (from wandb) (5.9.4)\n",
            "Requirement already satisfied: appdirs>=1.4.3 in /usr/local/lib/python3.9/dist-packages (from wandb) (1.4.4)\n",
            "Requirement already satisfied: typing-extensions in /usr/local/lib/python3.9/dist-packages (from wandb) (4.5.0)\n",
            "Requirement already satisfied: GitPython!=3.1.29,>=1.0.0 in /usr/local/lib/python3.9/dist-packages (from wandb) (3.1.31)\n",
            "Requirement already satisfied: setproctitle in /usr/local/lib/python3.9/dist-packages (from wandb) (1.3.2)\n",
            "Requirement already satisfied: sentry-sdk>=1.0.0 in /usr/local/lib/python3.9/dist-packages (from wandb) (1.19.1)\n",
            "Requirement already satisfied: PyYAML in /usr/local/lib/python3.9/dist-packages (from wandb) (6.0)\n",
            "Requirement already satisfied: requests<3,>=2.0.0 in /usr/local/lib/python3.9/dist-packages (from wandb) (2.27.1)\n",
            "Requirement already satisfied: pathtools in /usr/local/lib/python3.9/dist-packages (from wandb) (0.1.2)\n",
            "Requirement already satisfied: six>=1.4.0 in /usr/local/lib/python3.9/dist-packages (from docker-pycreds>=0.4.0->wandb) (1.16.0)\n",
            "Requirement already satisfied: gitdb<5,>=4.0.1 in /usr/local/lib/python3.9/dist-packages (from GitPython!=3.1.29,>=1.0.0->wandb) (4.0.10)\n",
            "Requirement already satisfied: urllib3<1.27,>=1.21.1 in /usr/local/lib/python3.9/dist-packages (from requests<3,>=2.0.0->wandb) (1.26.15)\n",
            "Requirement already satisfied: charset-normalizer~=2.0.0 in /usr/local/lib/python3.9/dist-packages (from requests<3,>=2.0.0->wandb) (2.0.12)\n",
            "Requirement already satisfied: idna<4,>=2.5 in /usr/local/lib/python3.9/dist-packages (from requests<3,>=2.0.0->wandb) (3.4)\n",
            "Requirement already satisfied: certifi>=2017.4.17 in /usr/local/lib/python3.9/dist-packages (from requests<3,>=2.0.0->wandb) (2022.12.7)\n",
            "Requirement already satisfied: smmap<6,>=3.0.1 in /usr/local/lib/python3.9/dist-packages (from gitdb<5,>=4.0.1->GitPython!=3.1.29,>=1.0.0->wandb) (5.0.0)\n"
          ]
        }
      ],
      "source": [
        "!pip install wandb"
      ]
    },
    {
      "cell_type": "code",
      "execution_count": null,
      "metadata": {
        "colab": {
          "background_save": true,
          "base_uri": "https://localhost:8080/"
        },
        "id": "bByp5sd-OgS5",
        "outputId": "156210ca-79b5-4f10-8e96-48bb2c231ab8"
      },
      "outputs": [
        {
          "name": "stderr",
          "output_type": "stream",
          "text": [
            "\u001b[34m\u001b[1mwandb\u001b[0m: Currently logged in as: \u001b[33mitamar-schechter\u001b[0m (\u001b[33mitamars\u001b[0m). Use \u001b[1m`wandb login --relogin`\u001b[0m to force relogin\n"
          ]
        }
      ],
      "source": [
        "import wandb\n",
        "wandb.login()\n",
        "import tensorflow as tf"
      ]
    },
    {
      "cell_type": "markdown",
      "metadata": {
        "id": "9fqx8KwGlDxt"
      },
      "source": [
        "Load Data"
      ]
    },
    {
      "cell_type": "code",
      "execution_count": null,
      "metadata": {
        "id": "K5kJta1hlCCU"
      },
      "outputs": [],
      "source": [
        "transform = transforms.Compose(\n",
        "    [transforms.ToTensor()]\n",
        ")\n",
        "\n",
        "batch_size = 16\n",
        "\n",
        "trainset = torchvision.datasets.MNIST(root='./data', train=True,\n",
        "                                        download=True, transform=transform)\n",
        "trainloader = torch.utils.data.DataLoader(trainset, batch_size=batch_size,\n",
        "                                          shuffle=True, num_workers=2)\n",
        "\n",
        "testset = torchvision.datasets.MNIST(root='./data', train=False,\n",
        "                                       download=True, transform=transform)\n",
        "testloader = torch.utils.data.DataLoader(testset, batch_size=batch_size,\n",
        "                                         shuffle=True, num_workers=2)\n",
        "\n",
        "classes = ('0', '1', '2', '3', '4', '5', '6', '7', '8', '9')\n",
        "device = torch.device('cuda:0' if torch.cuda.is_available() else 'cpu')"
      ]
    },
    {
      "cell_type": "markdown",
      "metadata": {
        "id": "tar9hshWlSb6"
      },
      "source": [
        "Function for find test loss"
      ]
    },
    {
      "cell_type": "code",
      "execution_count": null,
      "metadata": {
        "id": "sqgNl54slS8x"
      },
      "outputs": [],
      "source": [
        "def record_test_loss(net):\n",
        "    total_loss = 0.0\n",
        "    i = 1\n",
        "    # check_images_net(net)\n",
        "    with torch.no_grad():\n",
        "        for data in testloader:\n",
        "            inputs, labels = data\n",
        "            inputs = inputs.to(device)\n",
        "            labels = labels.to(device)\n",
        "\n",
        "            # Forward pass\n",
        "            outputs = net(inputs)\n",
        "            loss = criterion(outputs, inputs)\n",
        "            total_loss += loss.item() * inputs.size(0)\n",
        "            i += 1\n",
        "\n",
        "    num_of_images = inputs.shape[0] * (i)  # batch size * num of batches\n",
        "    average_loss = total_loss / num_of_images\n",
        "    print(f'test: num_of_images: {num_of_images}, total loss: {total_loss}, test loss: {average_loss}')\n",
        "    print(f\"total loss: {total_loss}, num of batches: {i}\")\n",
        "    print('Average test set loss per batch: {:.4f}'.format(average_loss))\n",
        "    print(\"Input\")\n",
        "    fig, axs = plt.subplots(1, inputs.shape[0], figsize=(10, 10))\n",
        "    for j in range(inputs.shape[0]):\n",
        "        vals = inputs[j].cpu().detach().numpy().squeeze()\n",
        "        axs[j].imshow(vals, cmap='gray')\n",
        "        axs[j].axis('off')\n",
        "    plt.show()\n",
        "    print(\"Output\")\n",
        "    fig, axs = plt.subplots(1, inputs.shape[0], figsize=(10, 10))\n",
        "    for j in range(outputs.shape[0]):\n",
        "        vals = outputs[j].cpu().detach().numpy().squeeze()\n",
        "        axs[j].imshow(vals, cmap='gray')\n",
        "        axs[j].axis('off')\n",
        "    plt.show()\n",
        "    return average_loss"
      ]
    },
    {
      "cell_type": "markdown",
      "metadata": {
        "id": "iKNuddS5lZwD"
      },
      "source": [
        "Function to train the model, and evaluation his permoances while training."
      ]
    },
    {
      "cell_type": "code",
      "execution_count": 9,
      "metadata": {
        "id": "x85k1MJflaI5"
      },
      "outputs": [],
      "source": [
        "def check_nets(nets):\n",
        "    for j, net in enumerate(nets):\n",
        "        wandb.init(\n",
        "        # Set the project where this run will be logged\n",
        "        project=\"Encode Decoder - CNN - AE\", \n",
        "        # We pass a run name (otherwise it’ll be randomly assigned, like sunshine-lollypop-10)\n",
        "        name=net.get_name(), \n",
        "        # Track hyperparameters and run metadata\n",
        "        config={\n",
        "        \"learning_rate\": 0.01,\n",
        "        \"architecture\": \"CNN\",\n",
        "        \"dataset\": \"CIFAR-50\",\n",
        "        \"epochs\": 10,\n",
        "        })\n",
        "\n",
        "\n",
        "        for epoch in range(3):  # loop over the dataset multiple times\n",
        "            sum_of_images = 0\n",
        "            running_loss = 0.0\n",
        "            for i, data in enumerate(trainloader, 0):\n",
        "                # get the inputs; data is a list of [inputs, labels]\n",
        "                inputs, labels = data[0].to(device), data[1].to(device)\n",
        "\n",
        "                # zero the parameter gradients\n",
        "                optimizers[j].zero_grad()\n",
        "\n",
        "                # forward + backward + optimize\n",
        "                outputs = net(inputs)\n",
        "                loss = criterion(outputs, inputs)\n",
        "                loss.backward()\n",
        "                optimizers[j].step()\n",
        "\n",
        "                # print statistics\n",
        "                running_loss += loss.item() * inputs.size(0)\n",
        "                # record the train and the test loss\n",
        "                if i % 150 == 149:\n",
        "                    num_of_images = inputs.shape[0] * (150)  # batch size * num of batches\n",
        "                    sum_of_images += num_of_images\n",
        "                    print(f'train: num_of_images: {num_of_images}, total loss: {running_loss}, train loss: {running_loss / (num_of_images)}, sum_of_images_until_now: {sum_of_images}')\n",
        "                    cur_test_loss = record_test_loss(net)\n",
        "                    wandb.log({\"train_loss\": running_loss / (num_of_images), \"test_loss\": cur_test_loss})\n",
        "                    print(f'train epoch: [{epoch + 1}, {i + 1:5d}] train_loss: {running_loss / (num_of_images):.5f} test loss: {cur_test_loss :.3f}')\n",
        "                    running_loss = 0.0\n",
        "        \n",
        "        wandb.finish()\n",
        "        print('Finished Training')"
      ]
    },
    {
      "cell_type": "markdown",
      "metadata": {
        "id": "5NidrBGYlmvF"
      },
      "source": [
        "First Question - variety of latent space sizes with fixed weights"
      ]
    },
    {
      "cell_type": "code",
      "execution_count": 11,
      "metadata": {
        "id": "CSQ2G6pmlnJx"
      },
      "outputs": [],
      "source": [
        "import torch\n",
        "import torch.nn as nn\n",
        "\n",
        "class Encoder(nn.Module):\n",
        "    def __init__(self, latent_dim):\n",
        "        super(Encoder, self).__init__()\n",
        "        self.conv1 = nn.Conv2d(1, 16, 3, stride=1, padding=0)  # 28 hw to 26\n",
        "        self.conv2 = nn.Conv2d(16, 32, 3, stride=2, padding=0) # 26 hw to 12\n",
        "        self.conv3 = nn.Conv2d(32, 64, 3, stride=1, padding=0) # 12 hw to 10\n",
        "        self.conv4 = nn.Conv2d(64, 128, 3, stride=2, padding=0) # 10 hw to 4\n",
        "        self.fc = nn.Linear(128 * 4 * 4, latent_dim)\n",
        "        self.relu = nn.ReLU()\n",
        "\n",
        "    def forward(self, x):\n",
        "        x = self.relu(self.conv1(x))\n",
        "        x = self.relu(self.conv2(x))\n",
        "        x = self.relu(self.conv3(x))\n",
        "        x = self.relu(self.conv4(x))\n",
        "        x = torch.flatten(x, 1)\n",
        "        x = self.fc(x)\n",
        "        return x\n",
        "\n",
        "\n",
        "class Decoder(nn.Module):\n",
        "    def __init__(self, latent_dim):\n",
        "        super(Decoder, self).__init__()\n",
        "        self.fc = nn.Linear(latent_dim, 128 * 4 * 4)\n",
        "        self.deconv1 = nn.ConvTranspose2d(128, 64, 3, stride=2, padding=0, output_padding=1)  # 4 to 7 because of the strides and 9 because of the kernel size and 10 becuae of output_padding\n",
        "        self.deconv2 = nn.ConvTranspose2d(64, 32, 3, stride=1, padding=0, output_padding=0)  # 10 to 12\n",
        "        self.deconv3 = nn.ConvTranspose2d(32, 16, 3, stride=2, padding=0, output_padding=1)  # 12 to 26\n",
        "        self.deconv4 = nn.ConvTranspose2d(16, 1, 3, stride=1, padding=0, output_padding=0)  # 26 to 28\n",
        "        self.sigmoid = nn.Sigmoid()\n",
        "        self.relu = nn.ReLU()\n",
        "\n",
        "    def forward(self, x):\n",
        "        x = self.relu(self.fc(x))\n",
        "        x = x.view(-1, 128, 4, 4)\n",
        "        x = self.relu(self.deconv1(x))\n",
        "        x = self.relu(self.deconv2(x))\n",
        "        x = self.relu(self.deconv3(x))\n",
        "        x = self.sigmoid(self.deconv4(x))\n",
        "        return x\n",
        "\n",
        "\n",
        "class Autoencoder(nn.Module):\n",
        "    def __init__(self, latent_dim):\n",
        "        super(Autoencoder, self).__init__()\n",
        "        self.name = f\"latent space with size: {latent_dim}\"\n",
        "        self.encoder = Encoder(latent_dim)\n",
        "        self.decoder = Decoder(latent_dim)\n",
        "\n",
        "    def forward(self, x):\n",
        "        x = self.encoder(x)\n",
        "        x = self.decoder(x)\n",
        "        return x\n",
        "\n",
        "    def get_name(self):\n",
        "        return self.name\n",
        "\n",
        "# define the models\n",
        "nets = [\n",
        "    Autoencoder(2).to(device),\n",
        "    Autoencoder(5).to(device),\n",
        "    Autoencoder(10).to(device),\n",
        "    Autoencoder(20).to(device),\n",
        "    Autoencoder(784).to(device),\n",
        "]\n",
        "criterion = nn.BCELoss()\n",
        "optimizers = [optim.Adam(net.parameters(), lr=0.001) for net in nets]\n",
        "# train and test the models\n",
        "check_nets(nets)"
      ]
    },
    {
      "cell_type": "markdown",
      "metadata": {
        "id": "AQcx5LbQOET1"
      },
      "source": [
        "First Question - variety of weights sizes with fixed latent space"
      ]
    },
    {
      "cell_type": "code",
      "execution_count": null,
      "metadata": {
        "id": "23vjyVg5TuQj"
      },
      "outputs": [],
      "source": [
        "class EncoderGen(nn.Module):\n",
        "    def __init__(self, weights_start = 16):\n",
        "        super(EncoderGen, self).__init__()\n",
        "        self.conv1 = nn.Conv2d(1, weights_start, 3, stride=1, padding=0)  # 28 hw to 26\n",
        "        self.conv2 = nn.Conv2d(weights_start, weights_start, 3, stride=2, padding=0) # 26 hw to 12\n",
        "        self.conv3 = nn.Conv2d(weights_start, weights_start*2, 3, stride=1, padding=0) # 12 hw to 10\n",
        "        self.conv4 = nn.Conv2d(weights_start*2, weights_start*2, 3, stride=2, padding=0) # 10 hw to 4\n",
        "        self.fc = nn.Linear(weights_start*2 * 4 * 4, 10)\n",
        "        self.relu = nn.ReLU()\n",
        "\n",
        "    def forward(self, x):\n",
        "        x = self.relu(self.conv1(x))\n",
        "        x = self.relu(self.conv2(x))\n",
        "        x = self.relu(self.conv3(x))\n",
        "        x = self.relu(self.conv4(x))\n",
        "        x = torch.flatten(x, 1)\n",
        "        x = self.fc(x)\n",
        "        return x\n",
        "\n",
        "\n",
        "class DecoderGen(nn.Module):\n",
        "    def __init__(self, weights_start = 16):\n",
        "        super(DecoderGen, self).__init__()\n",
        "        self.fc = nn.Linear(10, weights_start*2 * 4 * 4)\n",
        "        self.deconv1 = nn.ConvTranspose2d(weights_start*2, weights_start*2, 3, stride=2, padding=0, output_padding=1)\n",
        "        self.deconv2 = nn.ConvTranspose2d(weights_start*2, weights_start, 3, stride=1, padding=0, output_padding=0)\n",
        "        self.deconv3 = nn.ConvTranspose2d(weights_start, weights_start, 3, stride=2, padding=0, output_padding=1)  \n",
        "        self.deconv4 = nn.ConvTranspose2d(weights_start, 1, 3, stride=1, padding=0, output_padding=0)  \n",
        "        self.sigmoid = nn.Sigmoid()\n",
        "        self.relu = nn.ReLU()\n",
        "        self.weight_start = weights_start\n",
        "\n",
        "    def forward(self, x):\n",
        "        x = self.relu(self.fc(x))\n",
        "        x = x.view(-1, self.weight_start*2, 4, 4)\n",
        "        x = self.relu(self.deconv1(x))\n",
        "        x = self.relu(self.deconv2(x))\n",
        "        x = self.relu(self.deconv3(x))\n",
        "        x = self.sigmoid(self.deconv4(x))\n",
        "        return x\n",
        "\n",
        "\n",
        "class AutoencoderGeneral(nn.Module):\n",
        "    def __init__(self, weights_start):\n",
        "        super(AutoencoderGeneral, self).__init__()\n",
        "        self.name = f\"weights sizes of: {weights_start}, {weights_start}, {weights_start*2}, {weights_start*2},\"\n",
        "        self.encoder = EncoderGen(weights_start)\n",
        "        self.decoder = DecoderGen(weights_start)\n",
        "\n",
        "    def forward(self, x):\n",
        "        x = self.encoder(x)\n",
        "        x = self.decoder(x)\n",
        "        return x\n",
        "\n",
        "    def get_name(self):\n",
        "        return self.name\n",
        "\n",
        "nets2 = [\n",
        "    AutoencoderGeneral(2).to(device), \n",
        "    AutoencoderGeneral(4).to(device), \n",
        "    AutoencoderGeneral(8).to(device), \n",
        "    AutoencoderGeneral(16).to(device), \n",
        "    AutoencoderGeneral(32).to(device), \n",
        "    AutoencoderGeneral(128).to(device), \n",
        "]\n",
        "criterion = nn.BCELoss()\n",
        "l1_loss = nn.L1Loss()\n",
        "optimizers = [optim.Adam(net.parameters(), lr=0.001) for net in nets2]\n",
        "check_nets(nets2)"
      ]
    },
    {
      "cell_type": "markdown",
      "metadata": {
        "id": "azwWVWoTqYuU"
      },
      "source": [
        "Second Question - Interpolation\n",
        "\n",
        "(i) Include the resulting images obtained by such latent space interpolation.\n",
        "(ii) Try different pairs of digits."
      ]
    },
    {
      "cell_type": "code",
      "execution_count": 1,
      "metadata": {
        "id": "4eyh2ZzSPhe3",
        "colab": {
          "base_uri": "https://localhost:8080/",
          "height": 171
        },
        "outputId": "f48abe3a-0120-4c3d-9c83-1122f425ba62"
      },
      "outputs": [
        {
          "output_type": "error",
          "ename": "NameError",
          "evalue": "ignored",
          "traceback": [
            "\u001b[0;31m---------------------------------------------------------------------------\u001b[0m",
            "\u001b[0;31mNameError\u001b[0m                                 Traceback (most recent call last)",
            "\u001b[0;32m<ipython-input-1-3351b1114f80>\u001b[0m in \u001b[0;36m<cell line: 1>\u001b[0;34m()\u001b[0m\n\u001b[0;32m----> 1\u001b[0;31m \u001b[0mnet\u001b[0m \u001b[0;34m=\u001b[0m \u001b[0mnets\u001b[0m\u001b[0;34m[\u001b[0m\u001b[0;36m2\u001b[0m\u001b[0;34m]\u001b[0m\u001b[0;34m\u001b[0m\u001b[0;34m\u001b[0m\u001b[0m\n\u001b[0m",
            "\u001b[0;31mNameError\u001b[0m: name 'nets' is not defined"
          ]
        }
      ],
      "source": [
        " # latent space = 10, net as Q1\n",
        "net = nets[2] "
      ]
    },
    {
      "cell_type": "code",
      "execution_count": null,
      "metadata": {
        "id": "wmqpZB76qXUd"
      },
      "outputs": [],
      "source": [
        "# show the first line of digits\n",
        "i = 1\n",
        "# check_images_net(net)\n",
        "I = []\n",
        "with torch.no_grad():\n",
        "    for data in testloader:\n",
        "        if i > 2:\n",
        "            break;\n",
        "        inputs, labels = data\n",
        "        inputs = inputs.to(device)\n",
        "        labels = labels.to(device)\n",
        "        I.append(inputs)\n",
        "        # Forward pass\n",
        "        i += 1\n",
        "\n",
        "    print(\"I1\")\n",
        "    fig, axs = plt.subplots(1, I[0].shape[0], figsize=(10, 10))\n",
        "    for j in range(I[0].shape[0]):\n",
        "        vals = I[0][j].cpu().detach().numpy().squeeze()\n",
        "        axs[j].imshow(vals, cmap='gray')\n",
        "        axs[j].axis('off')\n",
        "    plt.show()\n",
        "\n",
        "    print(\"I2\")\n",
        "    fig, axs = plt.subplots(1, I[0].shape[0], figsize=(10, 10))\n",
        "    for j in range(I[1].shape[0]):\n",
        "        vals = I[1][j].cpu().detach().numpy().squeeze()\n",
        "        axs[j].imshow(vals, cmap='gray')\n",
        "        axs[j].axis('off')\n",
        "    plt.show()\n",
        "\n",
        "    A = [0.9, 0.7, 0.5, 0.3, 0.1]\n",
        "    for a in A:\n",
        "        I1_encoded = net.encoder(I[0])\n",
        "        I2_encoded = net.encoder(I[1])\n",
        "        interpolated_latent_space = (I1_encoded * a) + (I2_encoded * (1-a))  # intepollation of latent vectors\n",
        "        result = net.decoder(interpolated_latent_space)\n",
        "        \n",
        "        print(f\"Interpolation of I1 and I2 with a = {a}:\")\n",
        "        fig, axs = plt.subplots(1, inputs.shape[0], figsize=(10, 10))\n",
        "        for j in range(result.shape[0]):\n",
        "            vals = result[j].cpu().detach().numpy().squeeze()\n",
        "            axs[j].imshow(vals, cmap='gray')\n",
        "            axs[j].axis('off')\n",
        "        plt.show()\n"
      ]
    },
    {
      "cell_type": "markdown",
      "metadata": {
        "id": "cyc4FXATum_c"
      },
      "source": [
        "(iii) Try repeating this operation with an AE trained using the higher embedding dimension you tried above."
      ]
    },
    {
      "cell_type": "code",
      "execution_count": null,
      "metadata": {
        "id": "nXwCPHkZdIof"
      },
      "outputs": [],
      "source": [
        "# net as Q1\n",
        "net = Autoencoder(782).to(device)  # latent space = 782\n",
        "criterion = nn.BCELoss()\n",
        "optimizers = [optim.Adam(net_.parameters(), lr=0.001) for net_ in [net]]\n",
        "check_nets([net])"
      ]
    },
    {
      "cell_type": "code",
      "execution_count": null,
      "metadata": {
        "colab": {
          "base_uri": "https://localhost:8080/",
          "height": 565
        },
        "id": "utDa1x4PuniN",
        "outputId": "50fda937-92be-4fc9-a8d1-a98558bc70fd"
      },
      "outputs": [
        {
          "name": "stdout",
          "output_type": "stream",
          "text": [
            "I1\n"
          ]
        },
        {
          "data": {
            "image/png": "[encoded data removed]",
            "text/plain": [
              "<Figure size 1000x1000 with 16 Axes>"
            ]
          },
          "metadata": {},
          "output_type": "display_data"
        },
        {
          "name": "stdout",
          "output_type": "stream",
          "text": [
            "I2\n"
          ]
        },
        {
          "data": {
            "image/png": "[encoded data removed]",
            "text/plain": [
              "<Figure size 1000x1000 with 16 Axes>"
            ]
          },
          "metadata": {},
          "output_type": "display_data"
        },
        {
          "name": "stdout",
          "output_type": "stream",
          "text": [
            "Interpolation of I1 and I2 with a = 0.9:\n"
          ]
        },
        {
          "data": {
            "image/png": "[encoded data removed]",
            "text/plain": [
              "<Figure size 1000x1000 with 16 Axes>"
            ]
          },
          "metadata": {},
          "output_type": "display_data"
        },
        {
          "name": "stdout",
          "output_type": "stream",
          "text": [
            "Interpolation of I1 and I2 with a = 0.7:\n"
          ]
        },
        {
          "data": {
            "image/png": "[encoded data removed]",
            "text/plain": [
              "<Figure size 1000x1000 with 16 Axes>"
            ]
          },
          "metadata": {},
          "output_type": "display_data"
        },
        {
          "name": "stdout",
          "output_type": "stream",
          "text": [
            "Interpolation of I1 and I2 with a = 0.5:\n"
          ]
        },
        {
          "data": {
            "image/png": "[encoded data removed]",
            "text/plain": [
              "<Figure size 1000x1000 with 16 Axes>"
            ]
          },
          "metadata": {},
          "output_type": "display_data"
        },
        {
          "name": "stdout",
          "output_type": "stream",
          "text": [
            "Interpolation of I1 and I2 with a = 0.3:\n"
          ]
        },
        {
          "data": {
            "image/png": "[encoded data removed]",
            "text/plain": [
              "<Figure size 1000x1000 with 16 Axes>"
            ]
          },
          "metadata": {},
          "output_type": "display_data"
        },
        {
          "name": "stdout",
          "output_type": "stream",
          "text": [
            "Interpolation of I1 and I2 with a = 0.1:\n"
          ]
        },
        {
          "data": {
            "image/png": "[encoded data removed]",
            "text/plain": [
              "<Figure size 1000x1000 with 16 Axes>"
            ]
          },
          "metadata": {},
          "output_type": "display_data"
        }
      ],
      "source": [
        "i = 1\n",
        "I = []\n",
        "with torch.no_grad():\n",
        "    for data in testloader:\n",
        "        if i > 2:\n",
        "            break;\n",
        "        inputs, labels = data\n",
        "        inputs = inputs.to(device)\n",
        "        labels = labels.to(device)\n",
        "        I.append(inputs)\n",
        "        # Forward pass\n",
        "        i += 1\n",
        "\n",
        "    print(\"I1\")\n",
        "    fig, axs = plt.subplots(1, I[0].shape[0], figsize=(10, 10))\n",
        "    for j in range(I[0].shape[0]):\n",
        "        vals = I[0][j].cpu().detach().numpy().squeeze()\n",
        "        axs[j].imshow(vals, cmap='gray')\n",
        "        axs[j].axis('off')\n",
        "    plt.show()\n",
        "\n",
        "    print(\"I2\")\n",
        "    fig, axs = plt.subplots(1, I[0].shape[0], figsize=(10, 10))\n",
        "    for j in range(I[1].shape[0]):\n",
        "        vals = I[1][j].cpu().detach().numpy().squeeze()\n",
        "        axs[j].imshow(vals, cmap='gray')\n",
        "        axs[j].axis('off')\n",
        "    plt.show()\n",
        "\n",
        "    A = [0.9, 0.7, 0.5, 0.3, 0.1]   # alpha values\n",
        "    for a in A:\n",
        "        I1_encoded = net.encoder(I[0])\n",
        "        I2_encoded = net.encoder(I[1])\n",
        "        interpolated_latent_space = (I1_encoded * a) + (I2_encoded * (1-a))  # intepollation of latent vectors\n",
        "        result = net.decoder(interpolated_latent_space)\n",
        "        \n",
        "        print(f\"Interpolation of I1 and I2 with a = {a}:\")\n",
        "        fig, axs = plt.subplots(1, inputs.shape[0], figsize=(10, 10))\n",
        "        for j in range(result.shape[0]):\n",
        "            vals = result[j].cpu().detach().numpy().squeeze()\n",
        "            axs[j].imshow(vals, cmap='gray')\n",
        "            axs[j].axis('off')\n",
        "        plt.show()"
      ]
    },
    {
      "cell_type": "markdown",
      "metadata": {
        "id": "sHbVOPTMwXET"
      },
      "source": [
        "Question three - Decorrelation\n"
      ]
    },
    {
      "cell_type": "code",
      "execution_count": null,
      "metadata": {
        "id": "nPPr1DN9wXjA"
      },
      "outputs": [],
      "source": [
        "# nets as Q1\n",
        "nets = [\n",
        "    Autoencoder(2).to(device),\n",
        "    Autoencoder(5).to(device),\n",
        "    Autoencoder(10).to(device),\n",
        "    Autoencoder(20).to(device),\n",
        "    Autoencoder(784).to(device),\n",
        "]\n",
        "criterion = nn.BCELoss()\n",
        "optimizers = [optim.Adam(net.parameters(), lr=0.001) for net in nets]\n",
        "check_nets(nets)"
      ]
    },
    {
      "cell_type": "code",
      "execution_count": null,
      "metadata": {
        "id": "Kzxy-gFuV8no"
      },
      "outputs": [],
      "source": [
        "def find_pearson_correlations(net, latent_size):\n",
        "    all_latent_vectors = tf.zeros((0, latent_size))\n",
        "    i = 1\n",
        "    # check_images_net(net)\n",
        "    with torch.no_grad():\n",
        "        for data in testloader:\n",
        "            inputs, labels = data\n",
        "            inputs = inputs.to(device)\n",
        "            labels = labels.to(device)\n",
        "\n",
        "            # Forward pass\n",
        "            cur_latent_vectors = net.encoder(inputs)\n",
        "            all_latent_vectors = tf.concat([all_latent_vectors, cur_latent_vectors.cpu()], axis=0) # axis=0 means concatenate along the rows\n",
        "            i += 1\n",
        "    print(all_latent_vectors.shape)\n",
        "    import tensorflow_probability as tfp\n",
        "    pearson_corr_mat = tfp.stats.correlation(all_latent_vectors, all_latent_vectors)\n",
        "    corr_value = tf.reduce_mean(tf.abs(pearson_corr_mat))\n",
        "    print(corr_value)\n",
        "    wandb.init(\n",
        "    # Set the project where this run will be logged\n",
        "    project=\"Encode Decoder - CNN - AE\", \n",
        "    # We pass a run name (otherwise it’ll be randomly assigned, like sunshine-lollypop-10)\n",
        "    name=f\"latent space: {latent_size}\", \n",
        "    # Track hyperparameters and run metadata\n",
        "    config={\n",
        "    \"learning_rate\": 0.01,\n",
        "    \"architecture\": \"CNN\",\n",
        "    \"dataset\": \"CIFAR-50\",\n",
        "    \"epochs\": 10,\n",
        "    })\n",
        "    wandb.log({\"Pearson Correlation average abs\": corr_value})"
      ]
    },
    {
      "cell_type": "code",
      "execution_count": null,
      "metadata": {
        "colab": {
          "base_uri": "https://localhost:8080/",
          "height": 117,
          "referenced_widgets": [
            "c07c253105094ab78192b09710210d48",
            "ecf2f1fb153b452c9bcc848e314e0846",
            "0b3abaee74dd439ca0752d435fc4f9a6",
            "7297fdfda4b04655b737eaf730886f1e",
            "831b724faaa8467a8a4dd6557061c399",
            "3cf742897a6949b28caaf8b4b8632234",
            "ee9d91da5f11464cb72b349e30b8ad7c",
            "f3126cc1744f46689ce9cfc10066bb7b"
          ]
        },
        "id": "L_p49fBXW8AJ",
        "outputId": "6ad6991c-012b-4266-e2a4-54b725e854c2"
      },
      "outputs": [
        {
          "name": "stdout",
          "output_type": "stream",
          "text": [
            "(10000, 784)\n",
            "tf.Tensor(0.13613512, shape=(), dtype=float32)\n"
          ]
        },
        {
          "data": {
            "application/vnd.jupyter.widget-view+json": {
              "model_id": "c07c253105094ab78192b09710210d48",
              "version_major": 2,
              "version_minor": 0
            },
            "text/plain": [
              "VBox(children=(Label(value='Waiting for wandb.init()...\\r'), FloatProgress(value=0.01666906388333397, max=1.0)…"
            ]
          },
          "metadata": {},
          "output_type": "display_data"
        }
      ],
      "source": [
        "latent_sizes = [2, 5, 10, 20, 784]\n",
        "for i, net in enumerate(nets):\n",
        "    find_pearson_correlations(net, latent_sizes[i])"
      ]
    },
    {
      "cell_type": "markdown",
      "source": [
        "Question four - Transfer Learning"
      ],
      "metadata": {
        "id": "vz-GvkJ6y7Ip"
      }
    },
    {
      "cell_type": "code",
      "source": [
        "# define the net as Q1\n",
        "net = Autoencoder(10).to(device)  # latent space = 10\n",
        "criterion = nn.BCELoss()\n",
        "optimizers = [optim.Adam(net_.parameters(), lr=0.001) for net_ in [net]]\n",
        "check_nets([net])"
      ],
      "metadata": {
        "id": "p-DNxDm36Dbe"
      },
      "execution_count": null,
      "outputs": []
    },
    {
      "cell_type": "code",
      "source": [
        "import torch.nn as nn\n",
        "\n",
        "class MLP(nn.Module):\n",
        "    def __init__(self):\n",
        "        super(MLP, self).__init__()\n",
        "        self.fc1 = nn.Linear(10, 64)\n",
        "        self.fc2 = nn.Linear(64, 32)\n",
        "        self.fc3 = nn.Linear(32, 10)\n",
        "        self.relu = nn.ReLU()\n",
        "        self.softmax = nn.Softmax(dim=1)\n",
        "        \n",
        "    def forward(self, x):\n",
        "        x = self.relu(self.fc1(x))\n",
        "        x = self.relu(self.fc2(x))\n",
        "        x = x.float()\n",
        "        x = self.softmax(self.fc3(x))\n",
        "        return x        "
      ],
      "metadata": {
        "id": "ULJU--d14y9_"
      },
      "execution_count": 40,
      "outputs": []
    },
    {
      "cell_type": "code",
      "source": [
        "# test the model on the data set\n",
        "new_test_loader = torch.utils.data.DataLoader(testset, batch_size=1, shuffle=True, num_workers=2)\n",
        "\n",
        "def record_test_loss_mlp(mlp_net, encoder):\n",
        "    total_loss = 0.0\n",
        "    i = 1\n",
        "    # check_images_net(net)\n",
        "    with torch.no_grad():\n",
        "        for data in new_test_loader:\n",
        "            inputs, labels = data\n",
        "            inputs = inputs.to(device)\n",
        "            labels = labels.to(device)\n",
        "\n",
        "            # Forward pass\n",
        "            outputs = mlp_net(encoder(inputs))\n",
        "            loss = criterion(outputs, labels)\n",
        "            total_loss += loss.item() * inputs.size(0)\n",
        "            i += 1\n",
        "\n",
        "    num_of_images = inputs.shape[0] * (i)  # batch size * num of batches\n",
        "    average_loss = total_loss / num_of_images\n",
        "    print(f'test: num_of_images: {num_of_images}, total loss: {total_loss}, test loss: {average_loss}')\n",
        "    print(f\"total loss: {total_loss}, num of batches: {i}\")\n",
        "    print('Average test set loss per batch: {:.4f}'.format(average_loss))\n",
        "    return average_loss"
      ],
      "metadata": {
        "id": "7lCT8OTlYTLA"
      },
      "execution_count": 56,
      "outputs": []
    },
    {
      "cell_type": "code",
      "source": [
        "### DOES NOT train the encoder parameters\n",
        "mlp = MLP().to(device)\n",
        "criterion = nn.CrossEntropyLoss().to(device)\n",
        "optimizer = optim.Adam(mlp.parameters(), lr=0.001)\n",
        "\n",
        "# detach the encoder parameters\n",
        "for param in net.encoder.parameters():\n",
        "    param.requires_grad = False\n",
        "\n",
        "new_train_loader = torch.utils.data.DataLoader(trainset, batch_size=1, shuffle=True, num_workers=2)\n",
        "for i, data in enumerate(new_train_loader):\n",
        "    if i > 50:\n",
        "        break\n",
        "    optimizer.zero_grad()\n",
        "    inputs, labels = data[0].to(device), data[1].to(device)\n",
        "    latent_vector = net.encoder(inputs).to(device)\n",
        "    outputs = mlp(latent_vector)\n",
        "\n",
        "    loss = criterion(outputs, labels)\n",
        "    loss.backward()\n",
        "    optimizer.step()\n",
        "\n",
        "cur_test_loss = record_test_loss_mlp(mlp, net.encoder)\n",
        "print(\"Test loss of MLP model without training the encoder togehter\", cur_test_loss)"
      ],
      "metadata": {
        "colab": {
          "base_uri": "https://localhost:8080/"
        },
        "id": "kKleJy2c5PQp",
        "outputId": "03734769-8f1b-4065-83ac-c161baa686af"
      },
      "execution_count": 67,
      "outputs": [
        {
          "output_type": "stream",
          "name": "stdout",
          "text": [
            "test: num_of_images: 10001, total loss: 21239.016813755035, test loss: 2.123689312444259\n",
            "total loss: 21239.016813755035, num of batches: 10001\n",
            "Average test set loss per batch: 2.1237\n",
            "Test loss of MLP model without training the encoder togehter 2.123689312444259\n"
          ]
        }
      ]
    },
    {
      "cell_type": "code",
      "source": [
        "### DOES train the encoder parameters\n",
        "mlp2 = MLP().to(device)\n",
        "criterion = nn.CrossEntropyLoss().to(device)\n",
        "optimizer = optim.Adam([\n",
        "    {'params': mlp2.parameters()},\n",
        "    {'params': net.encoder.parameters(), 'lr': 1e-3}\n",
        "])\n",
        "\n",
        "# connect the encoder parameters\n",
        "for param in net.encoder.parameters():\n",
        "    param.requires_grad = True\n",
        "\n",
        "new_train_loader = torch.utils.data.DataLoader(trainset, batch_size=1, shuffle=True, num_workers=2)\n",
        "for i, data in enumerate(new_train_loader):\n",
        "    if i > 50:\n",
        "        break\n",
        "    optimizer.zero_grad()\n",
        "    inputs, labels = data[0].to(device), data[1].to(device)\n",
        "    latent_vector = net.encoder(inputs).to(device)\n",
        "    outputs = mlp2(latent_vector)\n",
        "    loss = criterion(outputs, labels)\n",
        "    loss.backward()\n",
        "    optimizer.step()\n",
        "\n",
        "cur_test_loss = record_test_loss_mlp(mlp2, net.encoder)\n",
        "print(\"Test loss of MLP model while training the encoder togehter\", cur_test_loss)"
      ],
      "metadata": {
        "colab": {
          "base_uri": "https://localhost:8080/"
        },
        "id": "Dj9wYLPMWoMh",
        "outputId": "de77bfc1-a7f8-49a2-fc66-677e67db711c"
      },
      "execution_count": 68,
      "outputs": [
        {
          "output_type": "stream",
          "name": "stdout",
          "text": [
            "test: num_of_images: 10001, total loss: 19976.841914892197, test loss: 1.9974844430449152\n",
            "total loss: 19976.841914892197, num of batches: 10001\n",
            "Average test set loss per batch: 1.9975\n",
            "Test loss of MLP model while training the encoder togehter 1.9974844430449152\n"
          ]
        }
      ]
    }
  ],
  "metadata": {
    "accelerator": "GPU",
    "colab": {
      "provenance": []
    },
    "gpuClass": "premium",
    "kernelspec": {
      "display_name": "Python 3",
      "name": "python3"
    },
    "language_info": {
      "name": "python"
    },
    "widgets": {
      "application/vnd.jupyter.widget-state+json": {
        "0b3abaee74dd439ca0752d435fc4f9a6": {
          "model_module": "@jupyter-widgets/controls",
          "model_module_version": "1.5.0",
          "model_name": "FloatProgressModel",
          "state": {
            "_dom_classes": [],
            "_model_module": "@jupyter-widgets/controls",
            "_model_module_version": "1.5.0",
            "_model_name": "FloatProgressModel",
            "_view_count": null,
            "_view_module": "@jupyter-widgets/controls",
            "_view_module_version": "1.5.0",
            "_view_name": "ProgressView",
            "bar_style": "",
            "description": "",
            "description_tooltip": null,
            "layout": "IPY_MODEL_ee9d91da5f11464cb72b349e30b8ad7c",
            "max": 1,
            "min": 0,
            "orientation": "horizontal",
            "style": "IPY_MODEL_f3126cc1744f46689ce9cfc10066bb7b",
            "value": 0.9841367152666559
          }
        },
        "3cf742897a6949b28caaf8b4b8632234": {
          "model_module": "@jupyter-widgets/controls",
          "model_module_version": "1.5.0",
          "model_name": "DescriptionStyleModel",
          "state": {
            "_model_module": "@jupyter-widgets/controls",
            "_model_module_version": "1.5.0",
            "_model_name": "DescriptionStyleModel",
            "_view_count": null,
            "_view_module": "@jupyter-widgets/base",
            "_view_module_version": "1.2.0",
            "_view_name": "StyleView",
            "description_width": ""
          }
        },
        "7297fdfda4b04655b737eaf730886f1e": {
          "model_module": "@jupyter-widgets/base",
          "model_module_version": "1.2.0",
          "model_name": "LayoutModel",
          "state": {
            "_model_module": "@jupyter-widgets/base",
            "_model_module_version": "1.2.0",
            "_model_name": "LayoutModel",
            "_view_count": null,
            "_view_module": "@jupyter-widgets/base",
            "_view_module_version": "1.2.0",
            "_view_name": "LayoutView",
            "align_content": null,
            "align_items": null,
            "align_self": null,
            "border": null,
            "bottom": null,
            "display": null,
            "flex": null,
            "flex_flow": null,
            "grid_area": null,
            "grid_auto_columns": null,
            "grid_auto_flow": null,
            "grid_auto_rows": null,
            "grid_column": null,
            "grid_gap": null,
            "grid_row": null,
            "grid_template_areas": null,
            "grid_template_columns": null,
            "grid_template_rows": null,
            "height": null,
            "justify_content": null,
            "justify_items": null,
            "left": null,
            "margin": null,
            "max_height": null,
            "max_width": null,
            "min_height": null,
            "min_width": null,
            "object_fit": null,
            "object_position": null,
            "order": null,
            "overflow": null,
            "overflow_x": null,
            "overflow_y": null,
            "padding": null,
            "right": null,
            "top": null,
            "visibility": null,
            "width": null
          }
        },
        "831b724faaa8467a8a4dd6557061c399": {
          "model_module": "@jupyter-widgets/base",
          "model_module_version": "1.2.0",
          "model_name": "LayoutModel",
          "state": {
            "_model_module": "@jupyter-widgets/base",
            "_model_module_version": "1.2.0",
            "_model_name": "LayoutModel",
            "_view_count": null,
            "_view_module": "@jupyter-widgets/base",
            "_view_module_version": "1.2.0",
            "_view_name": "LayoutView",
            "align_content": null,
            "align_items": null,
            "align_self": null,
            "border": null,
            "bottom": null,
            "display": null,
            "flex": null,
            "flex_flow": null,
            "grid_area": null,
            "grid_auto_columns": null,
            "grid_auto_flow": null,
            "grid_auto_rows": null,
            "grid_column": null,
            "grid_gap": null,
            "grid_row": null,
            "grid_template_areas": null,
            "grid_template_columns": null,
            "grid_template_rows": null,
            "height": null,
            "justify_content": null,
            "justify_items": null,
            "left": null,
            "margin": null,
            "max_height": null,
            "max_width": null,
            "min_height": null,
            "min_width": null,
            "object_fit": null,
            "object_position": null,
            "order": null,
            "overflow": null,
            "overflow_x": null,
            "overflow_y": null,
            "padding": null,
            "right": null,
            "top": null,
            "visibility": null,
            "width": null
          }
        },
        "c07c253105094ab78192b09710210d48": {
          "model_module": "@jupyter-widgets/controls",
          "model_module_version": "1.5.0",
          "model_name": "VBoxModel",
          "state": {
            "_dom_classes": [],
            "_model_module": "@jupyter-widgets/controls",
            "_model_module_version": "1.5.0",
            "_model_name": "VBoxModel",
            "_view_count": null,
            "_view_module": "@jupyter-widgets/controls",
            "_view_module_version": "1.5.0",
            "_view_name": "VBoxView",
            "box_style": "",
            "children": [
              "IPY_MODEL_ecf2f1fb153b452c9bcc848e314e0846",
              "IPY_MODEL_0b3abaee74dd439ca0752d435fc4f9a6"
            ],
            "layout": "IPY_MODEL_7297fdfda4b04655b737eaf730886f1e"
          }
        },
        "ecf2f1fb153b452c9bcc848e314e0846": {
          "model_module": "@jupyter-widgets/controls",
          "model_module_version": "1.5.0",
          "model_name": "LabelModel",
          "state": {
            "_dom_classes": [],
            "_model_module": "@jupyter-widgets/controls",
            "_model_module_version": "1.5.0",
            "_model_name": "LabelModel",
            "_view_count": null,
            "_view_module": "@jupyter-widgets/controls",
            "_view_module_version": "1.5.0",
            "_view_name": "LabelView",
            "description": "",
            "description_tooltip": null,
            "layout": "IPY_MODEL_831b724faaa8467a8a4dd6557061c399",
            "placeholder": "​",
            "style": "IPY_MODEL_3cf742897a6949b28caaf8b4b8632234",
            "value": "Waiting for wandb.init()...\r"
          }
        },
        "ee9d91da5f11464cb72b349e30b8ad7c": {
          "model_module": "@jupyter-widgets/base",
          "model_module_version": "1.2.0",
          "model_name": "LayoutModel",
          "state": {
            "_model_module": "@jupyter-widgets/base",
            "_model_module_version": "1.2.0",
            "_model_name": "LayoutModel",
            "_view_count": null,
            "_view_module": "@jupyter-widgets/base",
            "_view_module_version": "1.2.0",
            "_view_name": "LayoutView",
            "align_content": null,
            "align_items": null,
            "align_self": null,
            "border": null,
            "bottom": null,
            "display": null,
            "flex": null,
            "flex_flow": null,
            "grid_area": null,
            "grid_auto_columns": null,
            "grid_auto_flow": null,
            "grid_auto_rows": null,
            "grid_column": null,
            "grid_gap": null,
            "grid_row": null,
            "grid_template_areas": null,
            "grid_template_columns": null,
            "grid_template_rows": null,
            "height": null,
            "justify_content": null,
            "justify_items": null,
            "left": null,
            "margin": null,
            "max_height": null,
            "max_width": null,
            "min_height": null,
            "min_width": null,
            "object_fit": null,
            "object_position": null,
            "order": null,
            "overflow": null,
            "overflow_x": null,
            "overflow_y": null,
            "padding": null,
            "right": null,
            "top": null,
            "visibility": null,
            "width": null
          }
        },
        "f3126cc1744f46689ce9cfc10066bb7b": {
          "model_module": "@jupyter-widgets/controls",
          "model_module_version": "1.5.0",
          "model_name": "ProgressStyleModel",
          "state": {
            "_model_module": "@jupyter-widgets/controls",
            "_model_module_version": "1.5.0",
            "_model_name": "ProgressStyleModel",
            "_view_count": null,
            "_view_module": "@jupyter-widgets/base",
            "_view_module_version": "1.2.0",
            "_view_name": "StyleView",
            "bar_color": null,
            "description_width": ""
          }
        }
      }
    }
  },
  "nbformat": 4,
  "nbformat_minor": 0
}